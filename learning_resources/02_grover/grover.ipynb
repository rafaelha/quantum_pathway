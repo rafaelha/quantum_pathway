{
 "cells": [
  {
   "cell_type": "markdown",
   "metadata": {},
   "source": [
    "# Grover's Algorithm: Quantum Search"
   ]
  },
  {
   "cell_type": "code",
   "execution_count": 1,
   "metadata": {},
   "outputs": [],
   "source": [
    "from IPython.display import display, HTML, SVG"
   ]
  },
  {
   "cell_type": "markdown",
   "metadata": {},
   "source": [
    "$\\newcommand{\\bra}[1]{\\left<#1\\right|}$\n",
    "$\\newcommand{\\ket}[1]{\\left|#1\\right>}$\n",
    "\n",
    "## The Algorithm\n",
    "\n",
    "Grover's search algorithm executes the quantum analog of finding a needle in a haystack. Suppose $f$ is a function from $n$ bits to 1 bit, $f: \\{0, 1\\}^{n} \\rightarrow \\{0, 1\\}$. We are promised that $f(x) = 0$ for all $x$ except for a single such input $\\omega$, for which $f(\\omega) = 1$. This $\\omega$ is termed a _marked_ element, and is the value that we are searching for.\n",
    "\n",
    "How can we find out what the _marked_ element $\\omega$ is? The naive way is to evaluate the function for all possible inputs, but this requires $2^n-1$ operations in the worst case. We will see that, quantum-mechanically, we can do much better!\n",
    "\n",
    "The quantum version of the function $f$ is given by an oracle $O$. This is an operator acting on a $n$ qubit Hilbert states according to\n",
    "\n",
    "$$\n",
    "O = \\mathbf{1} - 2\\ket{\\omega}\\bra{\\omega}\n",
    "$$\n",
    "such that\n",
    "\n",
    "\\begin{aligned}\n",
    "O \\ket{\\omega} &= - \\ket{\\omega} \\quad  &&\\text{for some } \\omega \\in [0,2^n-1] \\text{ not previously known} \\\\\n",
    "O \\ket{x} &= \\ket{x} \\quad &&x \\ne \\omega \n",
    "\\end{aligned}\n",
    "\n",
    "Here, $x,\\omega$ are the decimal representations of a $n$-bit string, i.e. $\\ket{13}=\\ket{0\\dots 01101}$. We also define $N=2^n$.\n",
    "\n",
    "\n",
    "\n",
    "We see that the oracle has no effect on all but one special state $\\ket{\\omega}$ for which it flips the sign (equivalently, it adds a phase of $\\pi$). \n",
    "\n"
   ]
  },
  {
   "cell_type": "markdown",
   "metadata": {},
   "source": [
    "For a start, we will consider the equal-weight superposition of all possible states\n",
    "\n",
    "$$\n",
    "\\ket{s} =  H^{\\otimes n} \\ket{0} = \\frac{1}{\\sqrt{N}} \\left( \\ket{0} + \\ket{1} + \\dotsc + \\ket{\\omega} + \\dotsc + \\ket{N-1} \\right) \\,.\n",
    "$$\n",
    "\n",
    "> ***Exercise X.*** Compute the overlap $\\left<\\omega|s\\right>$. We will denote this overlap as $\\theta/2=\\left<\\omega|s\\right>$.\n",
    "\n",
    "If we act with the oracle on $\\ket{s}$, we get\n",
    "\n",
    "$$\n",
    "O \\ket{s} = \\frac{1}{\\sqrt{N}} \\left( \\ket{0} + \\ket{1} + \\dotsc - \\ket{\\omega} + \\dotsc + \\ket{N-1} \\right) \\,.\n",
    "$$\n",
    "\n",
    "With just a single operation, we have a state that distinguishes $\\ket{\\omega}$ from the rest of the basis states by virtue of a different sign on its amplitude. To identify $\\ket{\\omega}$ we will have to take a measurement, but as it stands, the probabilities are all the same because the sign of the amplitude does not matter!\n",
    "\n",
    "To make progress, we will introduce another operator, the so-called Grover diffusion operator.\n",
    "\n",
    "$$\n",
    "G = 2\\ket{s}\\bra{s} - \\mathbf{1} \\,.\n",
    "$$\n",
    "\n",
    "$G$ makes no reference to $\\omega$. It is therefore straightforward to implement this operation as a quantum circuit and in fact you will do so in the second part of this assignment.\n",
    "\n",
    "> ***Exercise X.*** Show that $$ G = 2\\ket{s}\\bra{s} - \\mathbf{1} = H^{\\otimes n} \\left(2\\ket{0}\\bra{0} - \\mathbf{1}\\right)H^{\\otimes n}$$"
   ]
  },
  {
   "cell_type": "markdown",
   "metadata": {},
   "source": [
    "Grover's algorithm is now given by the quantum circuit below. We will discuss each step in detail in terms of a geometric picture."
   ]
  },
  {
   "cell_type": "markdown",
   "metadata": {},
   "source": [
    "<div>\n",
    "<center><img src=\"pics/grover_circuit.jpg\" width=\"600\"></center>\n",
    "</div>"
   ]
  },
  {
   "cell_type": "markdown",
   "metadata": {},
   "source": [
    "## A Geometric picture"
   ]
  },
  {
   "cell_type": "markdown",
   "metadata": {},
   "source": [
    "A very beautiful and intuitive discussion relies on a geometric picture. Let us define the state"
   ]
  },
  {
   "cell_type": "markdown",
   "metadata": {},
   "source": [
    "$$\n",
    "\\ket{\\bar{s}} = \\frac{1}{\\sqrt{N-1}}\\sum_{x\\ne\\omega}\\ket{x} = \\frac{1}{\\sqrt{N-1}} \\left( \\ket{0} + \\ket{1} + \\dotsc + \\ket{\\omega-1} + \\ket{\\omega+1} + \\dotsc + \\ket{N-1} \\right) \\,.\n",
    "$$"
   ]
  },
  {
   "cell_type": "markdown",
   "metadata": {},
   "source": [
    "This state is obtained by simply removing the $\\ket{\\omega}$ contribution from $\\ket{s}$. Naturally, $\\ket{\\bar{s}}$ is orthogonal to $\\ket{\\omega}$.\n",
    "\n",
    "Consider the circle of states defined by\n",
    "\n",
    "$$\n",
    "\\ket{\\alpha} = \\cos \\alpha \\ket{\\bar{s}} + \\sin \\alpha \\ket{\\omega}\n",
    "$$\n",
    "\n",
    "We will represent each state by a vector on the unit sphere rotated by an angle $\\alpha$. This picture is different from the Bloch sphere in two important ways: First, only one parameter $\\alpha$ is used instead of two. This is because we have restricted ourselves to real amplitudes. Second, orthogonal states correspond to perpendicular vectors in our case while orthogonal states in the Pauli sphere point in opposite directions along the same axis."
   ]
  },
  {
   "cell_type": "markdown",
   "metadata": {},
   "source": [
    "<div>\n",
    "<center><img src=\"pics/grover_circle.svg\" width=\"350\"><\\center>\n",
    "</div>"
   ]
  },
  {
   "cell_type": "markdown",
   "metadata": {},
   "source": [
    "The state $\\ket{s}$ that we have previously defined as the equal-weight superposition also lies ob the circle:\n",
    "\n",
    "$$\n",
    "\\ket{s} = \\cos \\frac{\\theta}{2} \\ket{\\bar{s}} + \\sin \\frac{\\theta}{2} \\ket{\\omega} = \\ket{\\theta/2} \\,.\n",
    "$$ \n",
    "\n",
    "Together with \n",
    "$$\\ket{\\bar{\\omega}} = \\cos \\frac{\\theta}{2} \\ket{\\omega} - \\sin \\frac{\\theta}{2} \\ket{\\bar{s}}\n",
    "$$\n",
    "\n",
    "it forms a different orthonormal basis. By re-expressing $\\ket{\\bar{s}}$ and $\\ket{\\omega}$ in terms of $\\ket{s}$ and $\\ket{\\bar{\\omega}}$, we can show that\n",
    "\n",
    "$$\n",
    "\\ket{\\alpha}  = \\cos \\alpha \\ket{\\bar{s}} + \\sin \\alpha \\ket{\\omega}= \\cos\\left( \\alpha-\\frac{\\theta}{2}\\right) \\ket{s} + \\sin \\left( \\alpha-\\frac{\\theta}{2}\\right) \\ket{\\bar{\\omega}} \n",
    "$$\n",
    "\n",
    "How is this geometrical picture useful? You will be able to answer this question yourself after going through the following three exercises."
   ]
  },
  {
   "cell_type": "markdown",
   "metadata": {},
   "source": [
    "> ***Exercise X.*** Argue or show explicitly that acting with $G$ or $O$ on a state $\\ket{\\alpha}$ produces another state on this circle $\\ket{\\alpha'}$.\n",
    "\n",
    "This means that we can describe our problem with two states instead of considering the $2^n$-dimensional Hilbert-space. The operators $O$ and $G$ have now the following geometric interpretations.\n",
    "\n",
    "\n",
    "> ***Exercise X.*** Show that $O\\ket{\\alpha}$ corresponds to a reflection of $\\ket{\\alpha}$ across the $\\ket{\\bar{s}}$-axis and that $G\\ket{\\alpha}$ corresponds to a reflection of $\\ket{\\alpha}$ across the $\\ket{s}$-axis.\n",
    "\n",
    "> ***Exercise X.*** Given a state $\\ket{\\alpha}$ show that $GO\\ket{\\alpha}=\\ket{\\alpha+\\theta}$. You may use the graphic below to derive this point."
   ]
  },
  {
   "cell_type": "markdown",
   "metadata": {},
   "source": [
    "<div>\n",
    "<center><img src=\"pics/grover_geom2.svg\" width=\"400\"></center>\n",
    "</div>"
   ]
  },
  {
   "cell_type": "markdown",
   "metadata": {},
   "source": [
    "With all these ingredients, it is now straightforward to understand Grover's quantum circuit. Step by step:\n",
    "<br>\n",
    "<br>\n",
    "<div>\n",
    "    <p style=\"float: left;margin-top: -6px;\"><img src=\"pics/1.svg\" width=\"30\"></p>\n",
    "    <p style=\"margin-left: 50px;\">We create the state $\\ket{s}$ that corresponds to a vector at angle $\\theta/2$.</p>\n",
    "</div>\n",
    "<br>\n",
    "<div>\n",
    "    <p style=\"float: left;margin-top: -6px;\"><img src=\"pics/2.svg\" width=\"30\"></p>\n",
    "    <p style=\"margin-left: 50px;\">We repeatedly apply $GO$. Each time our vector is rotated counter-clockwise by an angle $\\theta$.</p>\n",
    "</div>\n",
    "<br>\n",
    "<div>\n",
    "    <p style=\"float: left;margin-top: -6px;\"><img src=\"pics/3.svg\" width=\"30\"></p>\n",
    "    <p style=\"margin-left: 50px;\">After a certain number of iterations, our state points along the $\\ket{\\omega}$-axis (or at least very close to it). A measurement of our state will now reveal $\\omega$ with high probability.</p>\n",
    "</div>"
   ]
  },
  {
   "cell_type": "markdown",
   "metadata": {},
   "source": [
    "\n",
    "> ***Exercise X.*** How many Grover steps (application of $GO$) are necessary to find $\\omega$ with maximum probability? How does this compare to the brute-force solution of trying all possible $\\ket{x}$ one-by-one?"
   ]
  },
  {
   "cell_type": "markdown",
   "metadata": {},
   "source": [
    "Here you have it! Grover's algorithm gives a square-root speed up, from $O(2^n)$ to the brute-force solution to $O(\\sqrt{2^n}) = O(2^{n/2})$.\n",
    "\n",
    "We can of course translate our two-state geometrical picture to a description of the full $n$-qubit quantum state. The amplitudes of this state in the computational basis are shown below for various Grover steps."
   ]
  },
  {
   "cell_type": "code",
   "execution_count": 10,
   "metadata": {},
   "outputs": [
    {
     "data": {
      "text/html": [
       "<div id=\"observablehq-d6ca94fd\"></div><script type=\"module\">import {Runtime, Inspector} from \"https://cdn.jsdelivr.net/npm/@observablehq/runtime@4/dist/runtime.js\";import define from \"https://api.observablehq.com/@rafaelha/grovers-algorithm-4.js?v=3\";const inspect = Inspector.into(\"#observablehq-d6ca94fd\");(new Runtime).module(define, name => (name === \"chart\" || name === \"viewof n\" || name === \"viewof grover_steps\") && inspect());</script>"
      ],
      "text/plain": [
       "<IPython.core.display.HTML object>"
      ]
     },
     "metadata": {},
     "output_type": "display_data"
    }
   ],
   "source": [
    "display(HTML(\"\"\"<div id=\"observablehq-d6ca94fd\"></div><script type=\"module\">import {Runtime, Inspector} from \"https://cdn.jsdelivr.net/npm/@observablehq/runtime@4/dist/runtime.js\";import define from \"https://api.observablehq.com/@rafaelha/grovers-algorithm-4.js?v=3\";const inspect = Inspector.into(\"#observablehq-d6ca94fd\");(new Runtime).module(define, name => (name === \"chart\" || name === \"viewof n\" || name === \"viewof grover_steps\") && inspect());</script>\"\"\"))"
   ]
  },
  {
   "cell_type": "markdown",
   "metadata": {},
   "source": [
    "# A Quantum Circuit Implementation of Grover's Algorithm"
   ]
  },
  {
   "cell_type": "markdown",
   "metadata": {},
   "source": [
    "We will now implement Grover's algorithm with the `pennylane` framework and run it on a quantum simulator. We begin by importing some python packages."
   ]
  },
  {
   "cell_type": "code",
   "execution_count": 3,
   "metadata": {},
   "outputs": [],
   "source": [
    "import pennylane as qml\n",
    "from pennylane import numpy as np\n",
    "import matplotlib.pyplot as plt"
   ]
  },
  {
   "cell_type": "markdown",
   "metadata": {},
   "source": [
    "Next we define the number of qubits `n` and `grover_steps`. Use these parameters in your implementation and feel free to change them."
   ]
  },
  {
   "cell_type": "code",
   "execution_count": 4,
   "metadata": {},
   "outputs": [],
   "source": [
    "n = 5 # number of qubits\n",
    "grover_steps = 6 # number of grover steps\n",
    "w = np.random.randint(0,2**n) # the oracle's secret. Don't peek!"
   ]
  },
  {
   "cell_type": "markdown",
   "metadata": {},
   "source": [
    "> ***Exercise X.*** Your turn! Complete the function `grover()` to implement the Grover diffusion operator\n",
    ">\n",
    "> $$ G = 2\\ket{s}\\bra{s} - \\mathbf{1} = H^{\\otimes n} \\left(2\\ket{0}\\bra{0} - \\mathbf{1}\\right)H^{\\otimes n}$$\n",
    ">\n",
    "> You might find the following quantum circuit (from Nielsen & Chuang) useful. It makes use of the [Toffoli](https://en.wikipedia.org/wiki/Toffoli_gate) gate. This gates applies $X$ to the target qubit only if both control qubits are in the $\\ket{1}$ state. In `pennylane` this gate is implemented using `qml.Toffoli(wires=[ctrl1,ctrl2,tar])`. Note you will need more than $2n$ qubits to implement the oracle in this way. These $n$ additional qubits are referred to as *ancillas* or *work qubits*."
   ]
  },
  {
   "cell_type": "markdown",
   "metadata": {},
   "source": [
    "<div>\n",
    "<img src=\"pics/cngate.jpg\" width=\"600\">\n",
    "</div>"
   ]
  },
  {
   "cell_type": "code",
   "execution_count": 5,
   "metadata": {},
   "outputs": [],
   "source": [
    "def grover():\n",
    "    # solution\n",
    "    qml.PauliX(2*n-1)\n",
    "    qml.Hadamard(2*n-1)\n",
    "    for i in range(n):\n",
    "        qml.Hadamard(i)\n",
    "        \n",
    "    for i in range(n):\n",
    "        qml.PauliX(i)\n",
    "    \n",
    "    qml.Toffoli(wires=[0,1,n])\n",
    "    for i in np.arange(n-2):\n",
    "        qml.Toffoli(wires=[i+2,n+i,n+i+1])\n",
    "    qml.CNOT(wires=[2*n-2,2*n-1])\n",
    "    \n",
    "    for i in np.flip(np.arange(n-2)):\n",
    "        qml.Toffoli(wires=[i+2,n+i,n+i+1])\n",
    "    qml.Toffoli(wires=[0,1,n])\n",
    "    \n",
    "    for i in range(n):\n",
    "        qml.PauliX(i)\n",
    "    \n",
    "    for i in range(n):\n",
    "        qml.Hadamard(i)\n",
    "        \n",
    "    qml.Hadamard(2*n-1)\n",
    "    qml.PauliX(2*n-1)"
   ]
  },
  {
   "cell_type": "markdown",
   "metadata": {},
   "source": [
    "The code below implements the quantum oracle."
   ]
  },
  {
   "cell_type": "code",
   "execution_count": 6,
   "metadata": {},
   "outputs": [],
   "source": [
    "def encode_w():\n",
    "    for idx, b in enumerate(np.binary_repr(w,n)):\n",
    "        if not int(b):\n",
    "            qml.PauliX(idx)      \n",
    "def oracle():\n",
    "    qml.PauliX(2*n-1)\n",
    "    qml.Hadamard(2*n-1)\n",
    "    encode_w()\n",
    "    qml.Toffoli(wires=[0,1,n])\n",
    "    for i in np.arange(n-2):\n",
    "        qml.Toffoli(wires=[i+2,n+i,n+i+1])\n",
    "    qml.CNOT(wires=[2*n-2,2*n-1])\n",
    "    \n",
    "    for i in np.flip(np.arange(n-2)):\n",
    "        qml.Toffoli(wires=[i+2,n+i,n+i+1])\n",
    "    qml.Toffoli(wires=[0,1,n])\n",
    "    encode_w()\n",
    "    qml.Hadamard(2*n-1)\n",
    "    qml.PauliX(2*n-1)\n",
    "    "
   ]
  },
  {
   "cell_type": "markdown",
   "metadata": {},
   "source": [
    "Finally, we select the `defaul.qubit` simulator as our quantum device."
   ]
  },
  {
   "cell_type": "code",
   "execution_count": 7,
   "metadata": {},
   "outputs": [],
   "source": [
    "dev = qml.device('default.qubit', wires=2*n)"
   ]
  },
  {
   "cell_type": "markdown",
   "metadata": {},
   "source": [
    "And we combine all parts into a quantum circuit."
   ]
  },
  {
   "cell_type": "code",
   "execution_count": 8,
   "metadata": {},
   "outputs": [],
   "source": [
    "@qml.qnode(dev)\n",
    "def circuit():\n",
    "    # step 1\n",
    "    for i in range(n):\n",
    "        qml.Hadamard(i)\n",
    "        \n",
    "    for i in np.arange(grover_steps):\n",
    "        oracle() # step 2\n",
    "        grover() # step 3\n",
    "    \n",
    "    return qml.probs(wires=range(n)) # return probabilities corresponding to measurement outcomes in z-basis"
   ]
  },
  {
   "cell_type": "markdown",
   "metadata": {},
   "source": [
    "If your implementation is correct and if you have chosen the right number of Grover steps, the outcome with the highest probability will tell you what `w` is!"
   ]
  },
  {
   "cell_type": "code",
   "execution_count": 9,
   "metadata": {},
   "outputs": [
    {
     "data": {
      "image/png": "[encoded data removed]",
      "text/plain": [
       "<Figure size 432x288 with 1 Axes>"
      ]
     },
     "metadata": {
      "needs_background": "light"
     },
     "output_type": "display_data"
    }
   ],
   "source": [
    "probs = circuit()\n",
    "color = ['steelblue']*2**n\n",
    "color[w] = 'orange'\n",
    "plt.bar(np.arange(0,2**n),probs,color=color)\n",
    "plt.title(str(grover_steps) + ' Grover steps')\n",
    "plt.xlabel('State');\n",
    "plt.ylabel('Probabilty');\n",
    "plt.ylim(0,1);"
   ]
  }
 ],
 "metadata": {
  "kernelspec": {
   "display_name": "Python 3",
   "language": "python",
   "name": "python3"
  },
  "language_info": {
   "codemirror_mode": {
    "name": "ipython",
    "version": 3
   },
   "file_extension": ".py",
   "mimetype": "text/x-python",
   "name": "python",
   "nbconvert_exporter": "python",
   "pygments_lexer": "ipython3",
   "version": "3.7.6"
  }
 },
 "nbformat": 4,
 "nbformat_minor": 4
}
