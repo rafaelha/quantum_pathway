{
 "cells": [
  {
   "cell_type": "code",
   "execution_count": 3,
   "metadata": {},
   "outputs": [],
   "source": [
    "import numpy as np\n",
    "import matplotlib\n",
    "import matplotlib.pyplot as plt\n",
    "import scipy.linalg as la\n",
    "import pickle\n",
    "import os.path\n",
    "\n",
    "import qiskit\n",
    "from qiskit import Aer\n",
    "from qiskit import IBMQ\n",
    "from qiskit import *\n",
    "from qiskit.visualization import plot_histogram\n",
    "from qiskit.tools.monitor import job_monitor\n",
    "from qiskit.quantum_info import state_fidelity\n",
    "from qiskit.providers.ibmq.managed import IBMQJobManager\n",
    "from qiskit.circuit import Parameter\n",
    "from qiskit.providers.aer import noise\n",
    "from qiskit.ignis.mitigation.measurement import (complete_meas_cal, tensored_meas_cal,\n",
    "                                                 CompleteMeasFitter, TensoredMeasFitter)\n",
    "import datetime"
   ]
  },
  {
   "cell_type": "code",
   "execution_count": 21,
   "metadata": {},
   "outputs": [
    {
     "name": "stderr",
     "output_type": "stream",
     "text": [
      "ibmqfactory.load_account:WARNING:2021-01-07 15:40:02,875: Credentials are already in use. The existing account in the session will be replaced.\n"
     ]
    },
    {
     "data": {
      "text/plain": [
       "[<IBMQSimulator('ibmq_qasm_simulator') from IBMQ(hub='ibm-q-sherbrooke', group='iq-staff', project='quantum-dynamics')>,\n",
       " <IBMQBackend('ibmqx2') from IBMQ(hub='ibm-q-sherbrooke', group='iq-staff', project='quantum-dynamics')>,\n",
       " <IBMQBackend('ibmq_16_melbourne') from IBMQ(hub='ibm-q-sherbrooke', group='iq-staff', project='quantum-dynamics')>,\n",
       " <IBMQBackend('ibmq_boeblingen') from IBMQ(hub='ibm-q-sherbrooke', group='iq-staff', project='quantum-dynamics')>,\n",
       " <IBMQBackend('ibmq_vigo') from IBMQ(hub='ibm-q-sherbrooke', group='iq-staff', project='quantum-dynamics')>,\n",
       " <IBMQBackend('ibmq_ourense') from IBMQ(hub='ibm-q-sherbrooke', group='iq-staff', project='quantum-dynamics')>,\n",
       " <IBMQBackend('ibmq_valencia') from IBMQ(hub='ibm-q-sherbrooke', group='iq-staff', project='quantum-dynamics')>,\n",
       " <IBMQBackend('ibmq_armonk') from IBMQ(hub='ibm-q-sherbrooke', group='iq-staff', project='quantum-dynamics')>,\n",
       " <IBMQBackend('ibmq_athens') from IBMQ(hub='ibm-q-sherbrooke', group='iq-staff', project='quantum-dynamics')>,\n",
       " <IBMQBackend('ibmq_rome') from IBMQ(hub='ibm-q-sherbrooke', group='iq-staff', project='quantum-dynamics')>,\n",
       " <IBMQBackend('ibmq_toronto') from IBMQ(hub='ibm-q-sherbrooke', group='iq-staff', project='quantum-dynamics')>,\n",
       " <IBMQBackend('ibmq_santiago') from IBMQ(hub='ibm-q-sherbrooke', group='iq-staff', project='quantum-dynamics')>,\n",
       " <IBMQBackend('ibmq_bogota') from IBMQ(hub='ibm-q-sherbrooke', group='iq-staff', project='quantum-dynamics')>,\n",
       " <IBMQBackend('ibmq_manhattan') from IBMQ(hub='ibm-q-sherbrooke', group='iq-staff', project='quantum-dynamics')>,\n",
       " <IBMQBackend('ibmq_casablanca') from IBMQ(hub='ibm-q-sherbrooke', group='iq-staff', project='quantum-dynamics')>,\n",
       " <IBMQBackend('ibmq_sydney') from IBMQ(hub='ibm-q-sherbrooke', group='iq-staff', project='quantum-dynamics')>]"
      ]
     },
     "execution_count": 21,
     "metadata": {},
     "output_type": "execute_result"
    }
   ],
   "source": [
    "IBMQ.load_account()\n",
    "\n",
    "#provider = IBMQ.get_provider(group='open')\n",
    "provider = IBMQ.get_provider(hub='ibm-q-sherbrooke', group='iq-staff', project='quantum-dynamics')\n",
    "provider.backends()"
   ]
  },
  {
   "cell_type": "code",
   "execution_count": 36,
   "metadata": {},
   "outputs": [],
   "source": [
    "qc='ibmq_toronto'\n",
    "qc = 'ibmq_16_melbourne'\n",
    "qc = 'ibmq_casablanca'\n",
    "qc = 'ibmq_16_melbourne'\n",
    "qc = 'ibmq_manhattan'\n",
    "#qc='ibmq_santiago'\n",
    "#qc='ibmqx2'\n",
    "#qc = 'ibmq_qasm_simulator'\n",
    "backend = provider.get_backend(qc)\n",
    "import networkx as nx\n",
    "import itertools"
   ]
  },
  {
   "cell_type": "code",
   "execution_count": 37,
   "metadata": {},
   "outputs": [
    {
     "data": {
      "text/plain": [
       "2"
      ]
     },
     "execution_count": 37,
     "metadata": {},
     "output_type": "execute_result"
    }
   ],
   "source": [
    "len(backend.active_jobs())"
   ]
  },
  {
   "cell_type": "code",
   "execution_count": 38,
   "metadata": {},
   "outputs": [
    {
     "name": "stdout",
     "output_type": "stream",
     "text": [
      "ibmq_qasm_simulator 32\n",
      "ibmqx2 5\n",
      "ibmq_16_melbourne 15\n",
      "ibmq_boeblingen 20\n",
      "ibmq_vigo 5\n",
      "ibmq_ourense 5\n",
      "ibmq_valencia 5\n",
      "ibmq_armonk 1\n",
      "ibmq_athens 5\n",
      "ibmq_rome 5\n",
      "ibmq_toronto 27\n",
      "ibmq_santiago 5\n",
      "ibmq_bogota 5\n",
      "ibmq_manhattan 65\n",
      "ibmq_casablanca 7\n",
      "ibmq_sydney 27\n"
     ]
    }
   ],
   "source": [
    "for b in provider.backends():\n",
    "    print(b,b.configuration().n_qubits)"
   ]
  },
  {
   "cell_type": "code",
   "execution_count": 39,
   "metadata": {},
   "outputs": [],
   "source": [
    "prop=backend.properties()"
   ]
  },
  {
   "cell_type": "code",
   "execution_count": 40,
   "metadata": {},
   "outputs": [
    {
     "data": {
      "text/plain": [
       "{(0,\n",
       "  10): {'gate_error': (0.014172721622707857,\n",
       "   datetime.datetime(2021, 1, 7, 9, 43, 19, tzinfo=tzutc())), 'gate_length': (4.622222222222222e-07,\n",
       "   datetime.datetime(2021, 1, 6, 17, 14, 2, tzinfo=tzutc()))},\n",
       " (10,\n",
       "  0): {'gate_error': (0.014172721622707857,\n",
       "   datetime.datetime(2021, 1, 7, 9, 43, 19, tzinfo=tzutc())), 'gate_length': (4.977777777777778e-07,\n",
       "   datetime.datetime(2021, 1, 6, 17, 14, 2, tzinfo=tzutc()))},\n",
       " (9,\n",
       "  8): {'gate_error': (0.025359404038998307,\n",
       "   datetime.datetime(2021, 1, 7, 9, 43, 19, tzinfo=tzutc())), 'gate_length': (5.475555555555556e-07,\n",
       "   datetime.datetime(2021, 1, 6, 17, 14, 2, tzinfo=tzutc()))},\n",
       " (8,\n",
       "  9): {'gate_error': (0.025359404038998307,\n",
       "   datetime.datetime(2021, 1, 7, 9, 43, 19, tzinfo=tzutc())), 'gate_length': (5.831111111111111e-07,\n",
       "   datetime.datetime(2021, 1, 6, 17, 14, 2, tzinfo=tzutc()))},\n",
       " (17,\n",
       "  11): {'gate_error': (0.012429385842968044,\n",
       "   datetime.datetime(2021, 1, 7, 9, 37, 58, tzinfo=tzutc())), 'gate_length': (2.9866666666666664e-07,\n",
       "   datetime.datetime(2021, 1, 6, 17, 14, 2, tzinfo=tzutc()))},\n",
       " (11,\n",
       "  17): {'gate_error': (0.012429385842968044,\n",
       "   datetime.datetime(2021, 1, 7, 9, 37, 58, tzinfo=tzutc())), 'gate_length': (3.3422222222222227e-07,\n",
       "   datetime.datetime(2021, 1, 6, 17, 14, 2, tzinfo=tzutc()))},\n",
       " (21,\n",
       "  12): {'gate_error': (0.01900577052033134,\n",
       "   datetime.datetime(2021, 1, 7, 9, 33, 13, tzinfo=tzutc())), 'gate_length': (6.542222222222222e-07,\n",
       "   datetime.datetime(2021, 1, 6, 17, 14, 2, tzinfo=tzutc()))},\n",
       " (12,\n",
       "  21): {'gate_error': (0.01900577052033134,\n",
       "   datetime.datetime(2021, 1, 7, 9, 33, 13, tzinfo=tzutc())), 'gate_length': (6.897777777777777e-07,\n",
       "   datetime.datetime(2021, 1, 6, 17, 14, 2, tzinfo=tzutc()))},\n",
       " (22,\n",
       "  21): {'gate_error': (0.018733178790567157,\n",
       "   datetime.datetime(2021, 1, 7, 9, 28, 20, tzinfo=tzutc())), 'gate_length': (6.4e-07,\n",
       "   datetime.datetime(2021, 1, 6, 17, 14, 2, tzinfo=tzutc()))},\n",
       " (21,\n",
       "  22): {'gate_error': (0.018733178790567157,\n",
       "   datetime.datetime(2021, 1, 7, 9, 28, 20, tzinfo=tzutc())), 'gate_length': (6.755555555555555e-07,\n",
       "   datetime.datetime(2021, 1, 6, 17, 14, 2, tzinfo=tzutc()))},\n",
       " (30,\n",
       "  31): {'gate_error': (0.013931448069788577,\n",
       "   datetime.datetime(2021, 1, 7, 9, 23, 28, tzinfo=tzutc())), 'gate_length': (3.768888888888889e-07,\n",
       "   datetime.datetime(2021, 1, 6, 17, 14, 2, tzinfo=tzutc()))},\n",
       " (31,\n",
       "  30): {'gate_error': (0.013931448069788577,\n",
       "   datetime.datetime(2021, 1, 7, 9, 23, 28, tzinfo=tzutc())), 'gate_length': (4.124444444444444e-07,\n",
       "   datetime.datetime(2021, 1, 6, 17, 14, 2, tzinfo=tzutc()))},\n",
       " (15,\n",
       "  14): {'gate_error': (0.03864284483865821,\n",
       "   datetime.datetime(2021, 1, 7, 9, 15, 20, tzinfo=tzutc())), 'gate_length': (2.9155555555555554e-07,\n",
       "   datetime.datetime(2021, 1, 6, 17, 14, 2, tzinfo=tzutc()))},\n",
       " (14,\n",
       "  15): {'gate_error': (0.03864284483865821,\n",
       "   datetime.datetime(2021, 1, 7, 9, 15, 20, tzinfo=tzutc())), 'gate_length': (3.271111111111111e-07,\n",
       "   datetime.datetime(2021, 1, 6, 17, 14, 2, tzinfo=tzutc()))},\n",
       " (34,\n",
       "  33): {'gate_error': (0.009839503336095012,\n",
       "   datetime.datetime(2021, 1, 7, 9, 15, 20, tzinfo=tzutc())), 'gate_length': (2.9155555555555554e-07,\n",
       "   datetime.datetime(2021, 1, 6, 17, 14, 2, tzinfo=tzutc()))},\n",
       " (33,\n",
       "  34): {'gate_error': (0.009839503336095012,\n",
       "   datetime.datetime(2021, 1, 7, 9, 15, 20, tzinfo=tzutc())), 'gate_length': (3.271111111111111e-07,\n",
       "   datetime.datetime(2021, 1, 6, 17, 14, 2, tzinfo=tzutc()))},\n",
       " (11,\n",
       "  4): {'gate_error': (0.016944350358555016,\n",
       "   datetime.datetime(2021, 1, 7, 9, 7, 52, tzinfo=tzutc())), 'gate_length': (3.911111111111111e-07,\n",
       "   datetime.datetime(2021, 1, 6, 17, 14, 2, tzinfo=tzutc()))},\n",
       " (4,\n",
       "  11): {'gate_error': (0.016944350358555016,\n",
       "   datetime.datetime(2021, 1, 7, 9, 7, 52, tzinfo=tzutc())), 'gate_length': (4.266666666666667e-07,\n",
       "   datetime.datetime(2021, 1, 6, 17, 14, 2, tzinfo=tzutc()))},\n",
       " (32,\n",
       "  31): {'gate_error': (0.013191782593996032,\n",
       "   datetime.datetime(2021, 1, 7, 9, 7, 52, tzinfo=tzutc())), 'gate_length': (3.555555555555556e-07,\n",
       "   datetime.datetime(2021, 1, 6, 17, 14, 2, tzinfo=tzutc()))},\n",
       " (31,\n",
       "  32): {'gate_error': (0.013191782593996032,\n",
       "   datetime.datetime(2021, 1, 7, 9, 7, 52, tzinfo=tzutc())), 'gate_length': (3.911111111111111e-07,\n",
       "   datetime.datetime(2021, 1, 6, 17, 14, 2, tzinfo=tzutc()))},\n",
       " (42,\n",
       "  41): {'gate_error': (0.015231529659267717,\n",
       "   datetime.datetime(2021, 1, 7, 9, 7, 52, tzinfo=tzutc())), 'gate_length': (3.413333333333333e-07,\n",
       "   datetime.datetime(2021, 1, 6, 17, 14, 2, tzinfo=tzutc()))},\n",
       " (41,\n",
       "  42): {'gate_error': (0.015231529659267717,\n",
       "   datetime.datetime(2021, 1, 7, 9, 7, 52, tzinfo=tzutc())), 'gate_length': (3.768888888888889e-07,\n",
       "   datetime.datetime(2021, 1, 6, 17, 14, 2, tzinfo=tzutc()))},\n",
       " (1,\n",
       "  0): {'gate_error': (0.009188416114264797,\n",
       "   datetime.datetime(2021, 1, 7, 9, 0, 48, tzinfo=tzutc())), 'gate_length': (3.982222222222222e-07,\n",
       "   datetime.datetime(2021, 1, 6, 17, 14, 2, tzinfo=tzutc()))},\n",
       " (0,\n",
       "  1): {'gate_error': (0.009188416114264797,\n",
       "   datetime.datetime(2021, 1, 7, 9, 0, 48, tzinfo=tzutc())), 'gate_length': (4.337777777777778e-07,\n",
       "   datetime.datetime(2021, 1, 6, 17, 14, 2, tzinfo=tzutc()))},\n",
       " (6,\n",
       "  5): {'gate_error': (0.012344072717955623,\n",
       "   datetime.datetime(2021, 1, 7, 9, 0, 48, tzinfo=tzutc())), 'gate_length': (3.8400000000000005e-07,\n",
       "   datetime.datetime(2021, 1, 6, 17, 14, 2, tzinfo=tzutc()))},\n",
       " (5,\n",
       "  6): {'gate_error': (0.012344072717955623,\n",
       "   datetime.datetime(2021, 1, 7, 9, 0, 48, tzinfo=tzutc())), 'gate_length': (4.1955555555555557e-07,\n",
       "   datetime.datetime(2021, 1, 6, 17, 14, 2, tzinfo=tzutc()))},\n",
       " (16,\n",
       "  15): {'gate_error': (0.014263990213894129,\n",
       "   datetime.datetime(2021, 1, 7, 9, 0, 48, tzinfo=tzutc())), 'gate_length': (3.768888888888889e-07,\n",
       "   datetime.datetime(2021, 1, 6, 17, 14, 2, tzinfo=tzutc()))},\n",
       " (15,\n",
       "  16): {'gate_error': (0.014263990213894129,\n",
       "   datetime.datetime(2021, 1, 7, 9, 0, 48, tzinfo=tzutc())), 'gate_length': (4.124444444444444e-07,\n",
       "   datetime.datetime(2021, 1, 6, 17, 14, 2, tzinfo=tzutc()))},\n",
       " (44,\n",
       "  43): {'gate_error': (0.0248915737140733,\n",
       "   datetime.datetime(2021, 1, 7, 9, 0, 48, tzinfo=tzutc())), 'gate_length': (3.6266666666666663e-07,\n",
       "   datetime.datetime(2021, 1, 6, 17, 14, 2, tzinfo=tzutc()))},\n",
       " (43,\n",
       "  44): {'gate_error': (0.0248915737140733,\n",
       "   datetime.datetime(2021, 1, 7, 9, 0, 48, tzinfo=tzutc())), 'gate_length': (3.982222222222222e-07,\n",
       "   datetime.datetime(2021, 1, 6, 17, 14, 2, tzinfo=tzutc()))},\n",
       " (47,\n",
       "  48): {'gate_error': (0.008491400192840975,\n",
       "   datetime.datetime(2021, 1, 7, 8, 55, 42, tzinfo=tzutc())), 'gate_length': (2.488888888888889e-07,\n",
       "   datetime.datetime(2021, 1, 6, 17, 14, 2, tzinfo=tzutc()))},\n",
       " (48,\n",
       "  47): {'gate_error': (0.008491400192840975,\n",
       "   datetime.datetime(2021, 1, 7, 8, 55, 42, tzinfo=tzutc())), 'gate_length': (2.844444444444445e-07,\n",
       "   datetime.datetime(2021, 1, 6, 17, 14, 2, tzinfo=tzutc()))},\n",
       " (17,\n",
       "  16): {'gate_error': (0.01608724007695328,\n",
       "   datetime.datetime(2021, 1, 7, 8, 48, 49, tzinfo=tzutc())), 'gate_length': (2.9155555555555554e-07,\n",
       "   datetime.datetime(2021, 1, 6, 17, 14, 2, tzinfo=tzutc()))},\n",
       " (16,\n",
       "  17): {'gate_error': (0.01608724007695328,\n",
       "   datetime.datetime(2021, 1, 7, 8, 48, 49, tzinfo=tzutc())), 'gate_length': (3.271111111111111e-07,\n",
       "   datetime.datetime(2021, 1, 6, 17, 14, 2, tzinfo=tzutc()))},\n",
       " (48,\n",
       "  49): {'gate_error': (0.025866245697878654,\n",
       "   datetime.datetime(2021, 1, 7, 8, 48, 49, tzinfo=tzutc())), 'gate_length': (2.844444444444445e-07,\n",
       "   datetime.datetime(2021, 1, 6, 17, 14, 2, tzinfo=tzutc()))},\n",
       " (49,\n",
       "  48): {'gate_error': (0.025866245697878654,\n",
       "   datetime.datetime(2021, 1, 7, 8, 48, 49, tzinfo=tzutc())), 'gate_length': (3.2e-07,\n",
       "   datetime.datetime(2021, 1, 6, 17, 14, 2, tzinfo=tzutc()))},\n",
       " (24,\n",
       "  29): {'gate_error': (0.020463754357437358,\n",
       "   datetime.datetime(2021, 1, 7, 8, 41, 39, tzinfo=tzutc())), 'gate_length': (2.7733333333333333e-07,\n",
       "   datetime.datetime(2021, 1, 6, 17, 14, 2, tzinfo=tzutc()))},\n",
       " (29,\n",
       "  24): {'gate_error': (0.020463754357437358,\n",
       "   datetime.datetime(2021, 1, 7, 8, 41, 39, tzinfo=tzutc())), 'gate_length': (3.128888888888889e-07,\n",
       "   datetime.datetime(2021, 1, 6, 17, 14, 2, tzinfo=tzutc()))},\n",
       " (25,\n",
       "  33): {'gate_error': (0.016467927401983967,\n",
       "   datetime.datetime(2021, 1, 7, 8, 41, 39, tzinfo=tzutc())), 'gate_length': (2.417777777777778e-07,\n",
       "   datetime.datetime(2021, 1, 6, 17, 14, 2, tzinfo=tzutc()))},\n",
       " (33,\n",
       "  25): {'gate_error': (0.016467927401983967,\n",
       "   datetime.datetime(2021, 1, 7, 8, 41, 39, tzinfo=tzutc())), 'gate_length': (2.7733333333333333e-07,\n",
       "   datetime.datetime(2021, 1, 6, 17, 14, 2, tzinfo=tzutc()))},\n",
       " (51,\n",
       "  50): {'gate_error': (0.007982512730867447,\n",
       "   datetime.datetime(2021, 1, 7, 8, 41, 39, tzinfo=tzutc())), 'gate_length': (2.488888888888889e-07,\n",
       "   datetime.datetime(2021, 1, 6, 17, 14, 2, tzinfo=tzutc()))},\n",
       " (50,\n",
       "  51): {'gate_error': (0.007982512730867447,\n",
       "   datetime.datetime(2021, 1, 7, 8, 41, 39, tzinfo=tzutc())), 'gate_length': (2.844444444444445e-07,\n",
       "   datetime.datetime(2021, 1, 6, 17, 14, 2, tzinfo=tzutc()))},\n",
       " (28,\n",
       "  29): {'gate_error': (0.021063354272050083,\n",
       "   datetime.datetime(2021, 1, 7, 8, 34, 30, tzinfo=tzutc())), 'gate_length': (2.56e-07,\n",
       "   datetime.datetime(2021, 1, 6, 17, 14, 2, tzinfo=tzutc()))},\n",
       " (29,\n",
       "  28): {'gate_error': (0.021063354272050083,\n",
       "   datetime.datetime(2021, 1, 7, 8, 34, 30, tzinfo=tzutc())), 'gate_length': (2.9155555555555554e-07,\n",
       "   datetime.datetime(2021, 1, 6, 17, 14, 2, tzinfo=tzutc()))},\n",
       " (34,\n",
       "  35): {'gate_error': (0.011799873228181601,\n",
       "   datetime.datetime(2021, 1, 7, 8, 34, 30, tzinfo=tzutc())), 'gate_length': (2.3466666666666668e-07,\n",
       "   datetime.datetime(2021, 1, 6, 17, 14, 2, tzinfo=tzutc()))},\n",
       " (35,\n",
       "  34): {'gate_error': (0.011799873228181601,\n",
       "   datetime.datetime(2021, 1, 7, 8, 34, 30, tzinfo=tzutc())), 'gate_length': (2.702222222222222e-07,\n",
       "   datetime.datetime(2021, 1, 6, 17, 14, 2, tzinfo=tzutc()))},\n",
       " (47,\n",
       "  53): {'gate_error': (0.010661499369508776,\n",
       "   datetime.datetime(2021, 1, 7, 8, 34, 30, tzinfo=tzutc())), 'gate_length': (2.2755555555555555e-07,\n",
       "   datetime.datetime(2021, 1, 6, 17, 14, 2, tzinfo=tzutc()))},\n",
       " (53,\n",
       "  47): {'gate_error': (0.010661499369508776,\n",
       "   datetime.datetime(2021, 1, 7, 8, 34, 30, tzinfo=tzutc())), 'gate_length': (2.631111111111111e-07,\n",
       "   datetime.datetime(2021, 1, 6, 17, 14, 2, tzinfo=tzutc()))},\n",
       " (20,\n",
       "  21): {'gate_error': (0.012110687031927053,\n",
       "   datetime.datetime(2021, 1, 7, 8, 26, 43, tzinfo=tzutc())), 'gate_length': (2.844444444444445e-07,\n",
       "   datetime.datetime(2021, 1, 6, 17, 14, 2, tzinfo=tzutc()))},\n",
       " (21,\n",
       "  20): {'gate_error': (0.012110687031927053,\n",
       "   datetime.datetime(2021, 1, 7, 8, 26, 43, tzinfo=tzutc())), 'gate_length': (3.2e-07,\n",
       "   datetime.datetime(2021, 1, 6, 17, 14, 2, tzinfo=tzutc()))},\n",
       " (30,\n",
       "  29): {'gate_error': (0.01826192198083626,\n",
       "   datetime.datetime(2021, 1, 7, 8, 26, 43, tzinfo=tzutc())), 'gate_length': (2.702222222222222e-07,\n",
       "   datetime.datetime(2021, 1, 6, 17, 14, 2, tzinfo=tzutc()))},\n",
       " (29,\n",
       "  30): {'gate_error': (0.01826192198083626,\n",
       "   datetime.datetime(2021, 1, 7, 8, 26, 43, tzinfo=tzutc())), 'gate_length': (3.057777777777778e-07,\n",
       "   datetime.datetime(2021, 1, 6, 17, 14, 2, tzinfo=tzutc()))},\n",
       " (36,\n",
       "  35): {'gate_error': (0.011779667353984363,\n",
       "   datetime.datetime(2021, 1, 7, 8, 26, 43, tzinfo=tzutc())), 'gate_length': (2.9866666666666664e-07,\n",
       "   datetime.datetime(2021, 1, 6, 17, 14, 2, tzinfo=tzutc()))},\n",
       " (35,\n",
       "  36): {'gate_error': (0.011779667353984363,\n",
       "   datetime.datetime(2021, 1, 7, 8, 26, 43, tzinfo=tzutc())), 'gate_length': (3.3422222222222227e-07,\n",
       "   datetime.datetime(2021, 1, 6, 17, 14, 2, tzinfo=tzutc()))},\n",
       " (52,\n",
       "  43): {'gate_error': (0.040656848439354354,\n",
       "   datetime.datetime(2021, 1, 7, 8, 26, 43, tzinfo=tzutc())), 'gate_length': (2.9155555555555554e-07,\n",
       "   datetime.datetime(2021, 1, 6, 17, 14, 2, tzinfo=tzutc()))},\n",
       " (43,\n",
       "  52): {'gate_error': (0.040656848439354354,\n",
       "   datetime.datetime(2021, 1, 7, 8, 26, 43, tzinfo=tzutc())), 'gate_length': (3.271111111111111e-07,\n",
       "   datetime.datetime(2021, 1, 6, 17, 14, 2, tzinfo=tzutc()))},\n",
       " (60,\n",
       "  53): {'gate_error': (0.010425431487345926,\n",
       "   datetime.datetime(2021, 1, 7, 8, 26, 43, tzinfo=tzutc())), 'gate_length': (2.844444444444445e-07,\n",
       "   datetime.datetime(2021, 1, 6, 17, 14, 2, tzinfo=tzutc()))},\n",
       " (53,\n",
       "  60): {'gate_error': (0.010425431487345926,\n",
       "   datetime.datetime(2021, 1, 7, 8, 26, 43, tzinfo=tzutc())), 'gate_length': (3.2e-07,\n",
       "   datetime.datetime(2021, 1, 6, 17, 14, 2, tzinfo=tzutc()))},\n",
       " (13,\n",
       "  10): {'gate_error': (0.018707765184344,\n",
       "   datetime.datetime(2021, 1, 7, 8, 19, 5, tzinfo=tzutc())), 'gate_length': (4.906666666666666e-07,\n",
       "   datetime.datetime(2021, 1, 6, 17, 14, 2, tzinfo=tzutc()))},\n",
       " (10,\n",
       "  13): {'gate_error': (0.018707765184344,\n",
       "   datetime.datetime(2021, 1, 7, 8, 19, 5, tzinfo=tzutc())), 'gate_length': (5.262222222222222e-07,\n",
       "   datetime.datetime(2021, 1, 6, 17, 14, 2, tzinfo=tzutc()))},\n",
       " (20,\n",
       "  19): {'gate_error': (0.03806511037952792,\n",
       "   datetime.datetime(2021, 1, 7, 8, 19, 5, tzinfo=tzutc())), 'gate_length': (4.337777777777778e-07,\n",
       "   datetime.datetime(2021, 1, 6, 17, 14, 2, tzinfo=tzutc()))},\n",
       " (19,\n",
       "  20): {'gate_error': (0.03806511037952792,\n",
       "   datetime.datetime(2021, 1, 7, 8, 19, 5, tzinfo=tzutc())), 'gate_length': (4.6933333333333335e-07,\n",
       "   datetime.datetime(2021, 1, 6, 17, 14, 2, tzinfo=tzutc()))},\n",
       " (35,\n",
       "  40): {'gate_error': (0.011700592782497271,\n",
       "   datetime.datetime(2021, 1, 7, 8, 19, 5, tzinfo=tzutc())), 'gate_length': (4.835555555555556e-07,\n",
       "   datetime.datetime(2021, 1, 6, 17, 14, 2, tzinfo=tzutc()))},\n",
       " (40,\n",
       "  35): {'gate_error': (0.011700592782497271,\n",
       "   datetime.datetime(2021, 1, 7, 8, 19, 5, tzinfo=tzutc())), 'gate_length': (5.191111111111111e-07,\n",
       "   datetime.datetime(2021, 1, 6, 17, 14, 2, tzinfo=tzutc()))},\n",
       " (56,\n",
       "  57): {'gate_error': (0.026701880078613682,\n",
       "   datetime.datetime(2021, 1, 7, 8, 19, 5, tzinfo=tzutc())), 'gate_length': (4.408888888888889e-07,\n",
       "   datetime.datetime(2021, 1, 6, 17, 14, 2, tzinfo=tzutc()))},\n",
       " (57,\n",
       "  56): {'gate_error': (0.026701880078613682,\n",
       "   datetime.datetime(2021, 1, 7, 8, 19, 5, tzinfo=tzutc())), 'gate_length': (4.764444444444444e-07,\n",
       "   datetime.datetime(2021, 1, 6, 17, 14, 2, tzinfo=tzutc()))},\n",
       " (14,\n",
       "  13): {'gate_error': (0.040308952874961695,\n",
       "   datetime.datetime(2021, 1, 7, 8, 10, 31, tzinfo=tzutc())), 'gate_length': (4.6933333333333335e-07,\n",
       "   datetime.datetime(2021, 1, 6, 17, 14, 2, tzinfo=tzutc()))},\n",
       " (13,\n",
       "  14): {'gate_error': (0.040308952874961695,\n",
       "   datetime.datetime(2021, 1, 7, 8, 10, 31, tzinfo=tzutc())), 'gate_length': (5.048888888888889e-07,\n",
       "   datetime.datetime(2021, 1, 6, 17, 14, 2, tzinfo=tzutc()))},\n",
       " (23,\n",
       "  26): {'gate_error': (0.0239636521496778,\n",
       "   datetime.datetime(2021, 1, 7, 8, 10, 31, tzinfo=tzutc())), 'gate_length': (4.4800000000000004e-07,\n",
       "   datetime.datetime(2021, 1, 6, 17, 14, 2, tzinfo=tzutc()))},\n",
       " (26,\n",
       "  23): {'gate_error': (0.0239636521496778,\n",
       "   datetime.datetime(2021, 1, 7, 8, 10, 31, tzinfo=tzutc())), 'gate_length': (4.835555555555556e-07,\n",
       "   datetime.datetime(2021, 1, 6, 17, 14, 2, tzinfo=tzutc()))},\n",
       " (47,\n",
       "  46): {'gate_error': (0.014178326572146044,\n",
       "   datetime.datetime(2021, 1, 7, 8, 10, 31, tzinfo=tzutc())), 'gate_length': (3.982222222222222e-07,\n",
       "   datetime.datetime(2021, 1, 6, 17, 14, 2, tzinfo=tzutc()))},\n",
       " (46,\n",
       "  47): {'gate_error': (0.014178326572146044,\n",
       "   datetime.datetime(2021, 1, 7, 8, 10, 31, tzinfo=tzutc())), 'gate_length': (4.337777777777778e-07,\n",
       "   datetime.datetime(2021, 1, 6, 17, 14, 2, tzinfo=tzutc()))},\n",
       " (57,\n",
       "  58): {'gate_error': (0.01724752099506749,\n",
       "   datetime.datetime(2021, 1, 7, 8, 10, 31, tzinfo=tzutc())), 'gate_length': (4.622222222222222e-07,\n",
       "   datetime.datetime(2021, 1, 6, 17, 14, 2, tzinfo=tzutc()))},\n",
       " (58,\n",
       "  57): {'gate_error': (0.01724752099506749,\n",
       "   datetime.datetime(2021, 1, 7, 8, 10, 31, tzinfo=tzutc())), 'gate_length': (4.977777777777778e-07,\n",
       "   datetime.datetime(2021, 1, 6, 17, 14, 2, tzinfo=tzutc()))},\n",
       " (2,\n",
       "  1): {'gate_error': (0.016757964364505218,\n",
       "   datetime.datetime(2021, 1, 7, 7, 57, 58, tzinfo=tzutc())), 'gate_length': (3.697777777777778e-07,\n",
       "   datetime.datetime(2021, 1, 6, 17, 14, 2, tzinfo=tzutc()))},\n",
       " (1,\n",
       "  2): {'gate_error': (0.016757964364505218,\n",
       "   datetime.datetime(2021, 1, 7, 7, 57, 58, tzinfo=tzutc())), 'gate_length': (4.0533333333333336e-07,\n",
       "   datetime.datetime(2021, 1, 6, 17, 14, 2, tzinfo=tzutc()))},\n",
       " (6,\n",
       "  7): {'gate_error': (0.010549516292543498,\n",
       "   datetime.datetime(2021, 1, 7, 7, 57, 58, tzinfo=tzutc())), 'gate_length': (3.8400000000000005e-07,\n",
       "   datetime.datetime(2021, 1, 6, 17, 14, 2, tzinfo=tzutc()))},\n",
       " (7,\n",
       "  6): {'gate_error': (0.010549516292543498,\n",
       "   datetime.datetime(2021, 1, 7, 7, 57, 58, tzinfo=tzutc())), 'gate_length': (4.1955555555555557e-07,\n",
       "   datetime.datetime(2021, 1, 6, 17, 14, 2, tzinfo=tzutc()))},\n",
       " (18,\n",
       "  19): {'gate_error': (0.014117115092898647,\n",
       "   datetime.datetime(2021, 1, 7, 7, 57, 58, tzinfo=tzutc())), 'gate_length': (4.124444444444444e-07,\n",
       "   datetime.datetime(2021, 1, 6, 17, 14, 2, tzinfo=tzutc()))},\n",
       " (19,\n",
       "  18): {'gate_error': (0.014117115092898647,\n",
       "   datetime.datetime(2021, 1, 7, 7, 57, 58, tzinfo=tzutc())), 'gate_length': (4.4800000000000004e-07,\n",
       "   datetime.datetime(2021, 1, 6, 17, 14, 2, tzinfo=tzutc()))},\n",
       " (27,\n",
       "  38): {'gate_error': (0.012639017169291389,\n",
       "   datetime.datetime(2021, 1, 7, 7, 57, 58, tzinfo=tzutc())), 'gate_length': (3.982222222222222e-07,\n",
       "   datetime.datetime(2021, 1, 6, 17, 14, 2, tzinfo=tzutc()))},\n",
       " (38,\n",
       "  27): {'gate_error': (0.012639017169291389,\n",
       "   datetime.datetime(2021, 1, 7, 7, 57, 58, tzinfo=tzutc())), 'gate_length': (4.337777777777778e-07,\n",
       "   datetime.datetime(2021, 1, 6, 17, 14, 2, tzinfo=tzutc()))},\n",
       " (45,\n",
       "  44): {'gate_error': (0.01169870131175732,\n",
       "   datetime.datetime(2021, 1, 7, 7, 57, 58, tzinfo=tzutc())), 'gate_length': (4.1955555555555557e-07,\n",
       "   datetime.datetime(2021, 1, 6, 17, 14, 2, tzinfo=tzutc()))},\n",
       " (44,\n",
       "  45): {'gate_error': (0.01169870131175732,\n",
       "   datetime.datetime(2021, 1, 7, 7, 57, 58, tzinfo=tzutc())), 'gate_length': (4.551111111111111e-07,\n",
       "   datetime.datetime(2021, 1, 6, 17, 14, 2, tzinfo=tzutc()))},\n",
       " (54,\n",
       "  64): {'gate_error': (0.013161408045532813,\n",
       "   datetime.datetime(2021, 1, 7, 7, 57, 58, tzinfo=tzutc())), 'gate_length': (3.911111111111111e-07,\n",
       "   datetime.datetime(2021, 1, 6, 17, 14, 2, tzinfo=tzutc()))},\n",
       " (64,\n",
       "  54): {'gate_error': (0.013161408045532813,\n",
       "   datetime.datetime(2021, 1, 7, 7, 57, 58, tzinfo=tzutc())), 'gate_length': (4.266666666666667e-07,\n",
       "   datetime.datetime(2021, 1, 6, 17, 14, 2, tzinfo=tzutc()))},\n",
       " (60,\n",
       "  59): {'gate_error': (0.022663439006239072,\n",
       "   datetime.datetime(2021, 1, 7, 7, 57, 58, tzinfo=tzutc())), 'gate_length': (3.6266666666666663e-07,\n",
       "   datetime.datetime(2021, 1, 6, 17, 14, 2, tzinfo=tzutc()))},\n",
       " (59,\n",
       "  60): {'gate_error': (0.022663439006239072,\n",
       "   datetime.datetime(2021, 1, 7, 7, 57, 58, tzinfo=tzutc())), 'gate_length': (3.982222222222222e-07,\n",
       "   datetime.datetime(2021, 1, 6, 17, 14, 2, tzinfo=tzutc()))},\n",
       " (3,\n",
       "  4): {'gate_error': (0.01286360010503279,\n",
       "   datetime.datetime(2021, 1, 7, 7, 49, 56, tzinfo=tzutc())), 'gate_length': (3.057777777777778e-07,\n",
       "   datetime.datetime(2021, 1, 6, 17, 14, 2, tzinfo=tzutc()))},\n",
       " (4,\n",
       "  3): {'gate_error': (0.01286360010503279,\n",
       "   datetime.datetime(2021, 1, 7, 7, 49, 56, tzinfo=tzutc())), 'gate_length': (3.413333333333333e-07,\n",
       "   datetime.datetime(2021, 1, 6, 17, 14, 2, tzinfo=tzutc()))},\n",
       " (8,\n",
       "  12): {'gate_error': (0.023304999132822052,\n",
       "   datetime.datetime(2021, 1, 7, 7, 49, 56, tzinfo=tzutc())), 'gate_length': (3.555555555555556e-07,\n",
       "   datetime.datetime(2021, 1, 6, 17, 14, 2, tzinfo=tzutc()))},\n",
       " (12,\n",
       "  8): {'gate_error': (0.023304999132822052,\n",
       "   datetime.datetime(2021, 1, 7, 7, 49, 56, tzinfo=tzutc())), 'gate_length': (3.911111111111111e-07,\n",
       "   datetime.datetime(2021, 1, 6, 17, 14, 2, tzinfo=tzutc()))},\n",
       " (32,\n",
       "  33): {'gate_error': (0.013726661018938935,\n",
       "   datetime.datetime(2021, 1, 7, 7, 49, 56, tzinfo=tzutc())), 'gate_length': (3.413333333333333e-07,\n",
       "   datetime.datetime(2021, 1, 6, 17, 14, 2, tzinfo=tzutc()))},\n",
       " (33,\n",
       "  32): {'gate_error': (0.013726661018938935,\n",
       "   datetime.datetime(2021, 1, 7, 7, 49, 56, tzinfo=tzutc())), 'gate_length': (3.768888888888889e-07,\n",
       "   datetime.datetime(2021, 1, 6, 17, 14, 2, tzinfo=tzutc()))},\n",
       " (42,\n",
       "  43): {'gate_error': (0.029974672264221902,\n",
       "   datetime.datetime(2021, 1, 7, 7, 49, 56, tzinfo=tzutc())), 'gate_length': (3.555555555555556e-07,\n",
       "   datetime.datetime(2021, 1, 6, 17, 14, 2, tzinfo=tzutc()))},\n",
       " (43,\n",
       "  42): {'gate_error': (0.029974672264221902,\n",
       "   datetime.datetime(2021, 1, 7, 7, 49, 56, tzinfo=tzutc())), 'gate_length': (3.911111111111111e-07,\n",
       "   datetime.datetime(2021, 1, 6, 17, 14, 2, tzinfo=tzutc()))},\n",
       " (51,\n",
       "  54): {'gate_error': (0.012905297280605132,\n",
       "   datetime.datetime(2021, 1, 7, 7, 49, 56, tzinfo=tzutc())), 'gate_length': (3.057777777777778e-07,\n",
       "   datetime.datetime(2021, 1, 6, 17, 14, 2, tzinfo=tzutc()))},\n",
       " (54,\n",
       "  51): {'gate_error': (0.012905297280605132,\n",
       "   datetime.datetime(2021, 1, 7, 7, 49, 56, tzinfo=tzutc())), 'gate_length': (3.413333333333333e-07,\n",
       "   datetime.datetime(2021, 1, 6, 17, 14, 2, tzinfo=tzutc()))},\n",
       " (60,\n",
       "  61): {'gate_error': (0.035279912728506224,\n",
       "   datetime.datetime(2021, 1, 7, 7, 49, 56, tzinfo=tzutc())), 'gate_length': (3.484444444444444e-07,\n",
       "   datetime.datetime(2021, 1, 6, 17, 14, 2, tzinfo=tzutc()))},\n",
       " (61,\n",
       "  60): {'gate_error': (0.035279912728506224,\n",
       "   datetime.datetime(2021, 1, 7, 7, 49, 56, tzinfo=tzutc())), 'gate_length': (3.8400000000000005e-07,\n",
       "   datetime.datetime(2021, 1, 6, 17, 14, 2, tzinfo=tzutc()))},\n",
       " (5,\n",
       "  4): {'gate_error': (0.010080197408753128,\n",
       "   datetime.datetime(2021, 1, 7, 7, 41, 26, tzinfo=tzutc())), 'gate_length': (3.484444444444444e-07,\n",
       "   datetime.datetime(2021, 1, 6, 17, 14, 2, tzinfo=tzutc()))},\n",
       " (4,\n",
       "  5): {'gate_error': (0.010080197408753128,\n",
       "   datetime.datetime(2021, 1, 7, 7, 41, 26, tzinfo=tzutc())), 'gate_length': (3.8400000000000005e-07,\n",
       "   datetime.datetime(2021, 1, 6, 17, 14, 2, tzinfo=tzutc()))},\n",
       " (22,\n",
       "  23): {'gate_error': (0.01390172240107898,\n",
       "   datetime.datetime(2021, 1, 7, 7, 41, 26, tzinfo=tzutc())), 'gate_length': (3.3422222222222227e-07,\n",
       "   datetime.datetime(2021, 1, 6, 17, 14, 2, tzinfo=tzutc()))},\n",
       " (23,\n",
       "  22): {'gate_error': (0.01390172240107898,\n",
       "   datetime.datetime(2021, 1, 7, 7, 41, 26, tzinfo=tzutc())), 'gate_length': (3.697777777777778e-07,\n",
       "   datetime.datetime(2021, 1, 6, 17, 14, 2, tzinfo=tzutc()))},\n",
       " (27,\n",
       "  28): {'gate_error': (0.01496735931018589,\n",
       "   datetime.datetime(2021, 1, 7, 7, 41, 26, tzinfo=tzutc())), 'gate_length': (3.3422222222222227e-07,\n",
       "   datetime.datetime(2021, 1, 6, 17, 14, 2, tzinfo=tzutc()))},\n",
       " (28,\n",
       "  27): {'gate_error': (0.01496735931018589,\n",
       "   datetime.datetime(2021, 1, 7, 7, 41, 26, tzinfo=tzutc())), 'gate_length': (3.697777777777778e-07,\n",
       "   datetime.datetime(2021, 1, 6, 17, 14, 2, tzinfo=tzutc()))},\n",
       " (39,\n",
       "  45): {'gate_error': (0.00955205911642426,\n",
       "   datetime.datetime(2021, 1, 7, 7, 41, 26, tzinfo=tzutc())), 'gate_length': (3.555555555555556e-07,\n",
       "   datetime.datetime(2021, 1, 6, 17, 14, 2, tzinfo=tzutc()))},\n",
       " (45,\n",
       "  39): {'gate_error': (0.00955205911642426,\n",
       "   datetime.datetime(2021, 1, 7, 7, 41, 26, tzinfo=tzutc())), 'gate_length': (3.911111111111111e-07,\n",
       "   datetime.datetime(2021, 1, 6, 17, 14, 2, tzinfo=tzutc()))},\n",
       " (49,\n",
       "  40): {'gate_error': (0.00998232855480674,\n",
       "   datetime.datetime(2021, 1, 7, 7, 41, 26, tzinfo=tzutc())), 'gate_length': (3.3422222222222227e-07,\n",
       "   datetime.datetime(2021, 1, 6, 17, 14, 2, tzinfo=tzutc()))},\n",
       " (40,\n",
       "  49): {'gate_error': (0.00998232855480674,\n",
       "   datetime.datetime(2021, 1, 7, 7, 41, 26, tzinfo=tzutc())), 'gate_length': (3.697777777777778e-07,\n",
       "   datetime.datetime(2021, 1, 6, 17, 14, 2, tzinfo=tzutc()))},\n",
       " (55,\n",
       "  56): {'gate_error': (0.01079454947319805,\n",
       "   datetime.datetime(2021, 1, 7, 7, 41, 26, tzinfo=tzutc())), 'gate_length': (3.3422222222222227e-07,\n",
       "   datetime.datetime(2021, 1, 6, 17, 14, 2, tzinfo=tzutc()))},\n",
       " (56,\n",
       "  55): {'gate_error': (0.01079454947319805,\n",
       "   datetime.datetime(2021, 1, 7, 7, 41, 26, tzinfo=tzutc())), 'gate_length': (3.697777777777778e-07,\n",
       "   datetime.datetime(2021, 1, 6, 17, 14, 2, tzinfo=tzutc()))},\n",
       " (62,\n",
       "  61): {'gate_error': (0.03175256952856598,\n",
       "   datetime.datetime(2021, 1, 7, 7, 41, 26, tzinfo=tzutc())), 'gate_length': (3.128888888888889e-07,\n",
       "   datetime.datetime(2021, 1, 6, 17, 14, 2, tzinfo=tzutc()))},\n",
       " (61,\n",
       "  62): {'gate_error': (0.03175256952856598,\n",
       "   datetime.datetime(2021, 1, 7, 7, 41, 26, tzinfo=tzutc())), 'gate_length': (3.484444444444444e-07,\n",
       "   datetime.datetime(2021, 1, 6, 17, 14, 2, tzinfo=tzutc()))},\n",
       " (17,\n",
       "  18): {'gate_error': (0.01086857134054528,\n",
       "   datetime.datetime(2021, 1, 7, 7, 33, 56, tzinfo=tzutc())), 'gate_length': (2.9866666666666664e-07,\n",
       "   datetime.datetime(2021, 1, 6, 17, 14, 2, tzinfo=tzutc()))},\n",
       " (18,\n",
       "  17): {'gate_error': (0.01086857134054528,\n",
       "   datetime.datetime(2021, 1, 7, 7, 33, 56, tzinfo=tzutc())), 'gate_length': (3.3422222222222227e-07,\n",
       "   datetime.datetime(2021, 1, 6, 17, 14, 2, tzinfo=tzutc()))},\n",
       " (31,\n",
       "  39): {'gate_error': (0.013551644353414799,\n",
       "   datetime.datetime(2021, 1, 7, 7, 33, 56, tzinfo=tzutc())), 'gate_length': (2.7733333333333333e-07,\n",
       "   datetime.datetime(2021, 1, 6, 17, 14, 2, tzinfo=tzutc()))},\n",
       " (39,\n",
       "  31): {'gate_error': (0.013551644353414799,\n",
       "   datetime.datetime(2021, 1, 7, 7, 33, 56, tzinfo=tzutc())), 'gate_length': (3.128888888888889e-07,\n",
       "   datetime.datetime(2021, 1, 6, 17, 14, 2, tzinfo=tzutc()))},\n",
       " (37,\n",
       "  26): {'gate_error': (0.016310200086865095,\n",
       "   datetime.datetime(2021, 1, 7, 7, 33, 56, tzinfo=tzutc())), 'gate_length': (2.9866666666666664e-07,\n",
       "   datetime.datetime(2021, 1, 6, 17, 14, 2, tzinfo=tzutc()))},\n",
       " (26,\n",
       "  37): {'gate_error': (0.016310200086865095,\n",
       "   datetime.datetime(2021, 1, 7, 7, 33, 56, tzinfo=tzutc())), 'gate_length': (3.3422222222222227e-07,\n",
       "   datetime.datetime(2021, 1, 6, 17, 14, 2, tzinfo=tzutc()))},\n",
       " (50,\n",
       "  49): {'gate_error': (0.008898574220909283,\n",
       "   datetime.datetime(2021, 1, 7, 7, 33, 56, tzinfo=tzutc())), 'gate_length': (2.9866666666666664e-07,\n",
       "   datetime.datetime(2021, 1, 6, 17, 14, 2, tzinfo=tzutc()))},\n",
       " (49,\n",
       "  50): {'gate_error': (0.008898574220909283,\n",
       "   datetime.datetime(2021, 1, 7, 7, 33, 56, tzinfo=tzutc())), 'gate_length': (3.3422222222222227e-07,\n",
       "   datetime.datetime(2021, 1, 6, 17, 14, 2, tzinfo=tzutc()))},\n",
       " (52,\n",
       "  56): {'gate_error': (0.015322770742058789,\n",
       "   datetime.datetime(2021, 1, 7, 7, 33, 56, tzinfo=tzutc())), 'gate_length': (2.7733333333333333e-07,\n",
       "   datetime.datetime(2021, 1, 6, 17, 14, 2, tzinfo=tzutc()))},\n",
       " (56,\n",
       "  52): {'gate_error': (0.015322770742058789,\n",
       "   datetime.datetime(2021, 1, 7, 7, 33, 56, tzinfo=tzutc())), 'gate_length': (3.128888888888889e-07,\n",
       "   datetime.datetime(2021, 1, 6, 17, 14, 2, tzinfo=tzutc()))},\n",
       " (62,\n",
       "  63): {'gate_error': (0.01887257993748656,\n",
       "   datetime.datetime(2021, 1, 7, 7, 33, 56, tzinfo=tzutc())), 'gate_length': (2.631111111111111e-07,\n",
       "   datetime.datetime(2021, 1, 6, 17, 14, 2, tzinfo=tzutc()))},\n",
       " (63,\n",
       "  62): {'gate_error': (0.01887257993748656,\n",
       "   datetime.datetime(2021, 1, 7, 7, 33, 56, tzinfo=tzutc())), 'gate_length': (2.9866666666666664e-07,\n",
       "   datetime.datetime(2021, 1, 6, 17, 14, 2, tzinfo=tzutc()))},\n",
       " (2,\n",
       "  3): {'gate_error': (0.02086828498165519,\n",
       "   datetime.datetime(2021, 1, 7, 7, 24, 30, tzinfo=tzutc())), 'gate_length': (4.124444444444444e-07,\n",
       "   datetime.datetime(2021, 1, 6, 17, 14, 2, tzinfo=tzutc()))},\n",
       " (3,\n",
       "  2): {'gate_error': (0.02086828498165519,\n",
       "   datetime.datetime(2021, 1, 7, 7, 24, 30, tzinfo=tzutc())), 'gate_length': (4.4800000000000004e-07,\n",
       "   datetime.datetime(2021, 1, 6, 17, 14, 2, tzinfo=tzutc()))},\n",
       " (8,\n",
       "  7): {'gate_error': (0.014303509717076085,\n",
       "   datetime.datetime(2021, 1, 7, 7, 24, 30, tzinfo=tzutc())), 'gate_length': (3.555555555555556e-07,\n",
       "   datetime.datetime(2021, 1, 6, 17, 14, 2, tzinfo=tzutc()))},\n",
       " (7,\n",
       "  8): {'gate_error': (0.014303509717076085,\n",
       "   datetime.datetime(2021, 1, 7, 7, 24, 30, tzinfo=tzutc())), 'gate_length': (3.911111111111111e-07,\n",
       "   datetime.datetime(2021, 1, 6, 17, 14, 2, tzinfo=tzutc()))},\n",
       " (24,\n",
       "  15): {'gate_error': (0.011214103253242513,\n",
       "   datetime.datetime(2021, 1, 7, 7, 24, 30, tzinfo=tzutc())), 'gate_length': (3.555555555555556e-07,\n",
       "   datetime.datetime(2021, 1, 6, 17, 14, 2, tzinfo=tzutc()))},\n",
       " (15,\n",
       "  24): {'gate_error': (0.011214103253242513,\n",
       "   datetime.datetime(2021, 1, 7, 7, 24, 30, tzinfo=tzutc())), 'gate_length': (3.911111111111111e-07,\n",
       "   datetime.datetime(2021, 1, 6, 17, 14, 2, tzinfo=tzutc()))},\n",
       " (25,\n",
       "  19): {'gate_error': (0.016832388736072068,\n",
       "   datetime.datetime(2021, 1, 7, 7, 24, 30, tzinfo=tzutc())), 'gate_length': (3.697777777777778e-07,\n",
       "   datetime.datetime(2021, 1, 6, 17, 14, 2, tzinfo=tzutc()))},\n",
       " (19,\n",
       "  25): {'gate_error': (0.016832388736072068,\n",
       "   datetime.datetime(2021, 1, 7, 7, 24, 30, tzinfo=tzutc())), 'gate_length': (4.0533333333333336e-07,\n",
       "   datetime.datetime(2021, 1, 6, 17, 14, 2, tzinfo=tzutc()))},\n",
       " (37,\n",
       "  36): {'gate_error': (0.017665564141951973,\n",
       "   datetime.datetime(2021, 1, 7, 7, 24, 30, tzinfo=tzutc())), 'gate_length': (3.982222222222222e-07,\n",
       "   datetime.datetime(2021, 1, 6, 17, 14, 2, tzinfo=tzutc()))},\n",
       " (36,\n",
       "  37): {'gate_error': (0.017665564141951973,\n",
       "   datetime.datetime(2021, 1, 7, 7, 24, 30, tzinfo=tzutc())), 'gate_length': (4.337777777777778e-07,\n",
       "   datetime.datetime(2021, 1, 6, 17, 14, 2, tzinfo=tzutc()))},\n",
       " (41,\n",
       "  38): {'gate_error': (0.012664078260375689,\n",
       "   datetime.datetime(2021, 1, 7, 7, 24, 30, tzinfo=tzutc())), 'gate_length': (3.768888888888889e-07,\n",
       "   datetime.datetime(2021, 1, 6, 17, 14, 2, tzinfo=tzutc()))},\n",
       " (38,\n",
       "  41): {'gate_error': (0.012664078260375689,\n",
       "   datetime.datetime(2021, 1, 7, 7, 24, 30, tzinfo=tzutc())), 'gate_length': (4.124444444444444e-07,\n",
       "   datetime.datetime(2021, 1, 6, 17, 14, 2, tzinfo=tzutc()))},\n",
       " (46,\n",
       "  45): {'gate_error': (0.011254923992624816,\n",
       "   datetime.datetime(2021, 1, 7, 7, 24, 30, tzinfo=tzutc())), 'gate_length': (3.8400000000000005e-07,\n",
       "   datetime.datetime(2021, 1, 6, 17, 14, 2, tzinfo=tzutc()))},\n",
       " (45,\n",
       "  46): {'gate_error': (0.011254923992624816,\n",
       "   datetime.datetime(2021, 1, 7, 7, 24, 30, tzinfo=tzutc())), 'gate_length': (4.1955555555555557e-07,\n",
       "   datetime.datetime(2021, 1, 6, 17, 14, 2, tzinfo=tzutc()))},\n",
       " (58,\n",
       "  59): {'gate_error': (0.019818163721123938,\n",
       "   datetime.datetime(2021, 1, 7, 7, 24, 30, tzinfo=tzutc())), 'gate_length': (3.8400000000000005e-07,\n",
       "   datetime.datetime(2021, 1, 6, 17, 14, 2, tzinfo=tzutc()))},\n",
       " (59,\n",
       "  58): {'gate_error': (0.019818163721123938,\n",
       "   datetime.datetime(2021, 1, 7, 7, 24, 30, tzinfo=tzutc())), 'gate_length': (4.1955555555555557e-07,\n",
       "   datetime.datetime(2021, 1, 6, 17, 14, 2, tzinfo=tzutc()))},\n",
       " (63,\n",
       "  64): {'gate_error': (0.023320009414935117,\n",
       "   datetime.datetime(2021, 1, 7, 7, 24, 30, tzinfo=tzutc())), 'gate_length': (4.0533333333333336e-07,\n",
       "   datetime.datetime(2021, 1, 6, 17, 14, 2, tzinfo=tzutc()))},\n",
       " (64,\n",
       "  63): {'gate_error': (0.023320009414935117,\n",
       "   datetime.datetime(2021, 1, 7, 7, 24, 30, tzinfo=tzutc())), 'gate_length': (4.408888888888889e-07,\n",
       "   datetime.datetime(2021, 1, 6, 17, 14, 2, tzinfo=tzutc()))}}"
      ]
     },
     "execution_count": 40,
     "metadata": {},
     "output_type": "execute_result"
    }
   ],
   "source": [
    "prop.gate_property('cx')"
   ]
  },
  {
   "cell_type": "code",
   "execution_count": 41,
   "metadata": {
    "scrolled": true
   },
   "outputs": [
    {
     "ename": "BackendPropertyError",
     "evalue": "'Could not find the desired property for cx'",
     "output_type": "error",
     "traceback": [
      "\u001b[1;31m---------------------------------------------------------------------------\u001b[0m",
      "\u001b[1;31mKeyError\u001b[0m                                  Traceback (most recent call last)",
      "\u001b[1;32m~\\anaconda3\\lib\\site-packages\\qiskit\\providers\\models\\backendproperties.py\u001b[0m in \u001b[0;36mgate_property\u001b[1;34m(self, gate, qubits, name)\u001b[0m\n\u001b[0;32m    306\u001b[0m                     \u001b[0mqubits\u001b[0m \u001b[1;33m=\u001b[0m \u001b[0mtuple\u001b[0m\u001b[1;33m(\u001b[0m\u001b[1;33m[\u001b[0m\u001b[0mqubits\u001b[0m\u001b[1;33m]\u001b[0m\u001b[1;33m)\u001b[0m\u001b[1;33m\u001b[0m\u001b[1;33m\u001b[0m\u001b[0m\n\u001b[1;32m--> 307\u001b[1;33m                 \u001b[0mresult\u001b[0m \u001b[1;33m=\u001b[0m \u001b[0mresult\u001b[0m\u001b[1;33m[\u001b[0m\u001b[0mtuple\u001b[0m\u001b[1;33m(\u001b[0m\u001b[0mqubits\u001b[0m\u001b[1;33m)\u001b[0m\u001b[1;33m]\u001b[0m\u001b[1;33m\u001b[0m\u001b[1;33m\u001b[0m\u001b[0m\n\u001b[0m\u001b[0;32m    308\u001b[0m                 \u001b[1;32mif\u001b[0m \u001b[0mname\u001b[0m\u001b[1;33m:\u001b[0m\u001b[1;33m\u001b[0m\u001b[1;33m\u001b[0m\u001b[0m\n",
      "\u001b[1;31mKeyError\u001b[0m: (3, 5)",
      "\nDuring handling of the above exception, another exception occurred:\n",
      "\u001b[1;31mBackendPropertyError\u001b[0m                      Traceback (most recent call last)",
      "\u001b[1;32m<ipython-input-41-26d40222efa1>\u001b[0m in \u001b[0;36m<module>\u001b[1;34m\u001b[0m\n\u001b[1;32m----> 1\u001b[1;33m \u001b[0mprop\u001b[0m\u001b[1;33m.\u001b[0m\u001b[0mgate_error\u001b[0m\u001b[1;33m(\u001b[0m\u001b[1;34m'cx'\u001b[0m\u001b[1;33m,\u001b[0m \u001b[1;33m[\u001b[0m\u001b[1;36m3\u001b[0m\u001b[1;33m,\u001b[0m\u001b[1;36m5\u001b[0m\u001b[1;33m]\u001b[0m\u001b[1;33m)\u001b[0m\u001b[1;33m\u001b[0m\u001b[1;33m\u001b[0m\u001b[0m\n\u001b[0m",
      "\u001b[1;32m~\\anaconda3\\lib\\site-packages\\qiskit\\providers\\models\\backendproperties.py\u001b[0m in \u001b[0;36mgate_error\u001b[1;34m(self, gate, qubits)\u001b[0m\n\u001b[0;32m    327\u001b[0m         \"\"\"\n\u001b[0;32m    328\u001b[0m         return self.gate_property(gate, qubits,\n\u001b[1;32m--> 329\u001b[1;33m                                   'gate_error')[0]  # Throw away datetime at index 1\n\u001b[0m\u001b[0;32m    330\u001b[0m \u001b[1;33m\u001b[0m\u001b[0m\n\u001b[0;32m    331\u001b[0m     \u001b[1;32mdef\u001b[0m \u001b[0mgate_length\u001b[0m\u001b[1;33m(\u001b[0m\u001b[0mself\u001b[0m\u001b[1;33m,\u001b[0m \u001b[0mgate\u001b[0m\u001b[1;33m:\u001b[0m \u001b[0mstr\u001b[0m\u001b[1;33m,\u001b[0m \u001b[0mqubits\u001b[0m\u001b[1;33m:\u001b[0m \u001b[0mUnion\u001b[0m\u001b[1;33m[\u001b[0m\u001b[0mint\u001b[0m\u001b[1;33m,\u001b[0m \u001b[0mIterable\u001b[0m\u001b[1;33m[\u001b[0m\u001b[0mint\u001b[0m\u001b[1;33m]\u001b[0m\u001b[1;33m]\u001b[0m\u001b[1;33m)\u001b[0m \u001b[1;33m->\u001b[0m \u001b[0mfloat\u001b[0m\u001b[1;33m:\u001b[0m\u001b[1;33m\u001b[0m\u001b[1;33m\u001b[0m\u001b[0m\n",
      "\u001b[1;32m~\\anaconda3\\lib\\site-packages\\qiskit\\providers\\models\\backendproperties.py\u001b[0m in \u001b[0;36mgate_property\u001b[1;34m(self, gate, qubits, name)\u001b[0m\n\u001b[0;32m    312\u001b[0m                                                                                      g=gate))\n\u001b[0;32m    313\u001b[0m         \u001b[1;32mexcept\u001b[0m \u001b[0mKeyError\u001b[0m\u001b[1;33m:\u001b[0m\u001b[1;33m\u001b[0m\u001b[1;33m\u001b[0m\u001b[0m\n\u001b[1;32m--> 314\u001b[1;33m             \u001b[1;32mraise\u001b[0m \u001b[0mBackendPropertyError\u001b[0m\u001b[1;33m(\u001b[0m\u001b[1;34m\"Could not find the desired property for {g}\"\u001b[0m\u001b[1;33m.\u001b[0m\u001b[0mformat\u001b[0m\u001b[1;33m(\u001b[0m\u001b[0mg\u001b[0m\u001b[1;33m=\u001b[0m\u001b[0mgate\u001b[0m\u001b[1;33m)\u001b[0m\u001b[1;33m)\u001b[0m\u001b[1;33m\u001b[0m\u001b[1;33m\u001b[0m\u001b[0m\n\u001b[0m\u001b[0;32m    315\u001b[0m         \u001b[1;32mreturn\u001b[0m \u001b[0mresult\u001b[0m\u001b[1;33m\u001b[0m\u001b[1;33m\u001b[0m\u001b[0m\n\u001b[0;32m    316\u001b[0m \u001b[1;33m\u001b[0m\u001b[0m\n",
      "\u001b[1;31mBackendPropertyError\u001b[0m: 'Could not find the desired property for cx'"
     ]
    }
   ],
   "source": [
    "prop.gate_error('cx', [3,5])"
   ]
  },
  {
   "cell_type": "code",
   "execution_count": 42,
   "metadata": {},
   "outputs": [
    {
     "data": {
      "text/plain": [
       "0.029400000000000093"
      ]
     },
     "execution_count": 42,
     "metadata": {},
     "output_type": "execute_result"
    }
   ],
   "source": [
    "prop.readout_error(0)"
   ]
  },
  {
   "cell_type": "code",
   "execution_count": 43,
   "metadata": {
    "scrolled": true
   },
   "outputs": [
    {
     "data": {
      "text/plain": [
       "{'T1': (7.032775630085315e-05,\n",
       "  datetime.datetime(2021, 1, 7, 6, 36, 32, tzinfo=tzutc())),\n",
       " 'T2': (0.00010673801226352282,\n",
       "  datetime.datetime(2021, 1, 7, 6, 38, 46, tzinfo=tzutc())),\n",
       " 'frequency': (4838247193.396503,\n",
       "  datetime.datetime(2021, 1, 7, 16, 14, 2, tzinfo=tzutc())),\n",
       " 'anharmonicity': (-331425769.954855,\n",
       "  datetime.datetime(2021, 1, 7, 16, 14, 2, tzinfo=tzutc())),\n",
       " 'readout_error': (0.029400000000000093,\n",
       "  datetime.datetime(2021, 1, 7, 6, 33, 57, tzinfo=tzutc())),\n",
       " 'prob_meas0_prep1': (0.038000000000000034,\n",
       "  datetime.datetime(2021, 1, 7, 6, 33, 57, tzinfo=tzutc())),\n",
       " 'prob_meas1_prep0': (0.0208,\n",
       "  datetime.datetime(2021, 1, 7, 6, 33, 57, tzinfo=tzutc())),\n",
       " 'readout_length': (5.351111111111111e-06,\n",
       "  datetime.datetime(2021, 1, 7, 6, 33, 57, tzinfo=tzutc()))}"
      ]
     },
     "execution_count": 43,
     "metadata": {},
     "output_type": "execute_result"
    }
   ],
   "source": [
    "prop.qubit_property(0)"
   ]
  },
  {
   "cell_type": "code",
   "execution_count": 44,
   "metadata": {},
   "outputs": [],
   "source": [
    "config=backend.configuration()"
   ]
  },
  {
   "cell_type": "code",
   "execution_count": 45,
   "metadata": {},
   "outputs": [],
   "source": [
    "cm=config.coupling_map"
   ]
  },
  {
   "cell_type": "code",
   "execution_count": 47,
   "metadata": {},
   "outputs": [
    {
     "data": {
      "image/png": "[encoded data removed]",
      "text/plain": [
       "<Figure size 432x288 with 1 Axes>"
      ]
     },
     "metadata": {},
     "output_type": "display_data"
    }
   ],
   "source": [
    "G=nx.Graph(cm)\n",
    "nx.draw_spring(G, with_labels=True)"
   ]
  },
  {
   "cell_type": "code",
   "execution_count": 53,
   "metadata": {},
   "outputs": [
    {
     "data": {
      "image/png": "[encoded data removed]",
      "text/plain": [
       "<Figure size 432x288 with 1 Axes>"
      ]
     },
     "metadata": {},
     "output_type": "display_data"
    }
   ],
   "source": [
    "nx.draw_spectral(G, with_labels=True)"
   ]
  },
  {
   "cell_type": "code",
   "execution_count": null,
   "metadata": {},
   "outputs": [],
   "source": [
    "import networkx as nx\n",
    "import itertools\n",
    "\n",
    "npath = 5\n",
    "required_max_path_length = npath-1 # (inferior or equal to)\n",
    "\n",
    "all_paths = []\n",
    "nodes_combs = itertools.combinations(G.nodes, 2)\n",
    "\n",
    "for source, target in nodes_combs:\n",
    "    paths = nx.all_simple_paths(G, source=source, target=target, cutoff=required_max_path_length)\n",
    "\n",
    "    for path in paths:\n",
    "        if path not in all_paths and path[::-1] not in all_paths:\n",
    "            if len(path)==npath:\n",
    "                all_paths.append(path)\n",
    "\n",
    "for path in all_paths:\n",
    "    print(path)"
   ]
  },
  {
   "cell_type": "code",
   "execution_count": null,
   "metadata": {},
   "outputs": [],
   "source": [
    "cx_errors = []\n",
    "for p in all_paths:\n",
    "    error = []\n",
    "    for i in range(len(p)-1):\n",
    "        error.append(prop.gate_error('cx', [p[i],p[i+1]]))\n",
    "    cx_errors.append(error)\n",
    "cx_errors = np.array(cx_errors)"
   ]
  },
  {
   "cell_type": "code",
   "execution_count": null,
   "metadata": {},
   "outputs": [],
   "source": [
    "cx_max_errors = np.max(cx_errors, axis=1)\n",
    "best_qubits = all_paths[np.argmin(cx_max_errors)]"
   ]
  },
  {
   "cell_type": "code",
   "execution_count": null,
   "metadata": {},
   "outputs": [],
   "source": [
    "best_qubits"
   ]
  },
  {
   "cell_type": "code",
   "execution_count": null,
   "metadata": {},
   "outputs": [],
   "source": [
    "cx_max_errors"
   ]
  },
  {
   "cell_type": "code",
   "execution_count": null,
   "metadata": {},
   "outputs": [],
   "source": [
    "np.min(cx_max_errors)"
   ]
  },
  {
   "cell_type": "code",
   "execution_count": null,
   "metadata": {},
   "outputs": [],
   "source": [
    "all_paths"
   ]
  },
  {
   "cell_type": "code",
   "execution_count": 20,
   "metadata": {},
   "outputs": [
    {
     "data": {
      "text/plain": [
       "BackendJobLimit(active_jobs=0, maximum_jobs=None)"
      ]
     },
     "execution_count": 20,
     "metadata": {},
     "output_type": "execute_result"
    }
   ],
   "source": [
    "backend.job_limit()"
   ]
  },
  {
   "cell_type": "code",
   "execution_count": 27,
   "metadata": {},
   "outputs": [
    {
     "name": "stderr",
     "output_type": "stream",
     "text": [
      "C:\\Users\\rafae\\anaconda3\\lib\\site-packages\\ipykernel_launcher.py:3: UserWarning: The creation date is returned in local time now, rather than UTC.\n",
      "  This is separate from the ipykernel package so we can avoid doing imports until\n"
     ]
    },
    {
     "name": "stdout",
     "output_type": "stream",
     "text": [
      "2021-01-07 16:00:19.214000+01:00\n",
      "2021-01-07 16:00:17.598000+01:00\n",
      "2021-01-07 16:00:15.709000+01:00\n",
      "2021-01-07 16:00:13.954000+01:00\n",
      "2021-01-07 16:00:12.054000+01:00\n"
     ]
    }
   ],
   "source": [
    "for i in np.arange(len(backend.active_jobs())):\n",
    "    a=backend.active_jobs()[0]\n",
    "    print(a.creation_date())\n",
    "    a.cancel()"
   ]
  },
  {
   "cell_type": "code",
   "execution_count": null,
   "metadata": {},
   "outputs": [],
   "source": [
    "prop"
   ]
  },
  {
   "cell_type": "code",
   "execution_count": null,
   "metadata": {},
   "outputs": [],
   "source": [
    "pickle.dump(prop, open('test.pickle' , \"ab\" ) )"
   ]
  },
  {
   "cell_type": "code",
   "execution_count": null,
   "metadata": {},
   "outputs": [],
   "source": [
    "t=pickle.load(open('test.pickle','rb'))"
   ]
  },
  {
   "cell_type": "code",
   "execution_count": null,
   "metadata": {},
   "outputs": [],
   "source": [
    "t"
   ]
  },
  {
   "cell_type": "code",
   "execution_count": null,
   "metadata": {},
   "outputs": [],
   "source": [
    "t.gate_error('cx',[0,1])"
   ]
  },
  {
   "cell_type": "code",
   "execution_count": 14,
   "metadata": {},
   "outputs": [
    {
     "data": {
      "text/plain": [
       "QasmBackendConfiguration(allow_object_storage=True, allow_q_object=True, backend_name='ibmq_16_melbourne', backend_version='2.3.5', basis_gates=['id', 'u1', 'u2', 'u3', 'cx'], conditional=False, coupling_map=[[0, 1], [0, 14], [1, 0], [1, 2], [1, 13], [2, 1], [2, 3], [2, 12], [3, 2], [3, 4], [3, 11], [4, 3], [4, 5], [4, 10], [5, 4], [5, 6], [5, 9], [6, 5], [6, 8], [7, 8], [8, 6], [8, 7], [8, 9], [9, 5], [9, 8], [9, 10], [10, 4], [10, 9], [10, 11], [11, 3], [11, 10], [11, 12], [12, 2], [12, 11], [12, 13], [13, 1], [13, 12], [13, 14], [14, 0], [14, 13]], credits_required=True, description='15 qubit device', dt=2.2222222222222221e-10, dtm=2.2222222222222221e-10, dynamic_reprate_enabled=False, gates=[GateConfig(id, [], gate id q { U(0,0,0) q; }, [[0], [1], [2], [3], [4], [5], [6], [7], [8], [9], [10], [11], [12], [13], [14]]), GateConfig(u1, ['lambda'], gate u1(lambda) q { U(0,0,lambda) q; }, [[0], [1], [2], [3], [4], [5], [6], [7], [8], [9], [10], [11], [12], [13], [14]]), GateConfig(u2, ['phi', 'lambda'], gate u2(phi,lambda) q { U(pi/2,phi,lambda) q; }, [[0], [1], [2], [3], [4], [5], [6], [7], [8], [9], [10], [11], [12], [13], [14]]), GateConfig(u3, ['theta', 'phi', 'lambda'], gate u3(theta,phi,lambda) q { U(theta,phi,lambda) q; }, [[0], [1], [2], [3], [4], [5], [6], [7], [8], [9], [10], [11], [12], [13], [14]]), GateConfig(cx, [], gate cx q1,q2 { CX q1,q2; }, [[0, 1], [0, 14], [1, 0], [1, 2], [1, 13], [2, 1], [2, 3], [2, 12], [3, 2], [3, 4], [3, 11], [4, 3], [4, 5], [4, 10], [5, 4], [5, 6], [5, 9], [6, 5], [6, 8], [7, 8], [8, 6], [8, 7], [8, 9], [9, 5], [9, 8], [9, 10], [10, 4], [10, 9], [10, 11], [11, 3], [11, 10], [11, 12], [12, 2], [12, 11], [12, 13], [13, 1], [13, 12], [13, 14], [14, 0], [14, 13]])], local=False, max_experiments=75, max_shots=8192, meas_map=[[0, 1, 2, 3, 4, 5, 6, 7, 8, 9, 10, 11, 12, 13, 14]], memory=True, multi_meas_enabled=False, n_qubits=15, n_registers=1, online_date=datetime.datetime(2018, 11, 6, 5, 0, tzinfo=tzutc()), open_pulse=False, quantum_volume=8, sample_name='albatross', simulator=False, supported_instructions=['cx', 'id', 'delay', 'measure', 'rz', 'sx', 'u1', 'u2', 'u3', 'x'], url='None')"
      ]
     },
     "execution_count": 14,
     "metadata": {},
     "output_type": "execute_result"
    }
   ],
   "source": [
    "config"
   ]
  },
  {
   "cell_type": "code",
   "execution_count": null,
   "metadata": {},
   "outputs": [],
   "source": [
    "config."
   ]
  }
 ],
 "metadata": {
  "kernelspec": {
   "display_name": "Python 3.7.4 64-bit ('base': conda)",
   "language": "python",
   "name": "python37464bitbasecondab089cb07e68842efa599417390eab4bb"
  },
  "language_info": {
   "codemirror_mode": {
    "name": "ipython",
    "version": 3
   },
   "file_extension": ".py",
   "mimetype": "text/x-python",
   "name": "python",
   "nbconvert_exporter": "python",
   "pygments_lexer": "ipython3",
   "version": "3.7.6"
  }
 },
 "nbformat": 4,
 "nbformat_minor": 4
}
